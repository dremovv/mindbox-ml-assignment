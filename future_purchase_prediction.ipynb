{
 "cells": [
  {
   "cell_type": "markdown",
   "metadata": {
    "pycharm": {
     "name": "#%% md\n"
    }
   },
   "source": [
    "### Датасет\n",
    "\n",
    "- `purchases_train.csv` - история покупок в розничном магазине с 21 октября 2003 года по 12 марта 2004 года.\n",
    "- `purchases_test.csv` - покупки за следующую неделю, с 13 по 19 марта 2004 года). В этой выборке для каждого пользователя исключены товары, которые он уже покупал за период обучающей выборки. Так сделано, чтобы измерить, насколько модель хорошо предсказывает будущие покупки.\n",
    "- `customers.csv` - пол клиентов (`Male` / `Female`), есть пропуски\n",
    "\n",
    "### Бейзлайн решение\n",
    "- на истории покупок обучается модель матричного разложения `implicit.AlternateLeastSquares`\n",
    "- рекомендации сравниваются с покупками за следующую неделю по метрике `map@10`\n",
    "\n",
    "\n",
    "### Задание\n",
    "Улучшите модель с помощью информации о поле клиентов `customers.csv`"
   ]
  },
  {
   "cell_type": "markdown",
   "source": [
    "# Выгрузка данных, бейзлайн решение, метрика качества"
   ],
   "metadata": {
    "collapsed": false,
    "pycharm": {
     "name": "#%% md\n"
    }
   }
  },
  {
   "cell_type": "code",
   "execution_count": 1,
   "metadata": {
    "pycharm": {
     "is_executing": false
    }
   },
   "outputs": [],
   "source": [
    "# you need implicit & ml_metrics packages to run this notebook\n",
    "# pip3 install implicit ml_metrics\n",
    "\n",
    "\n",
    "from pathlib import Path\n",
    "\n",
    "import numpy as np\n",
    "from IPython.core.display import display\n",
    "from ml_metrics import mapk\n",
    "import scipy\n",
    "import pandas as pd\n",
    "import implicit\n",
    "\n",
    "from src.load import DataProvider\n",
    "from src.baseline_model import get_baseline_model\n",
    "from src.utils import transform_to_item_user_csr_matrix, get_recommendations, get_purchases_by_customer\n",
    "import inspect"
   ]
  },
  {
   "cell_type": "code",
   "execution_count": 2,
   "metadata": {
    "pycharm": {
     "is_executing": false
    }
   },
   "outputs": [
    {
     "data": {
      "text/plain": "   customer_id  product_id                       datetime\n0      8698595       12530  2004-03-10 22:18:43.497459200\n1     13271885        7541  2004-03-06 02:24:43.209763200\n2     16852746       13134  2004-03-10 01:03:09.598614400\n3     16852746        6572  2004-03-04 16:45:16.522566400\n4     14619070        4659  2004-03-12 13:29:35.011481600",
      "text/html": "<div>\n<style scoped>\n    .dataframe tbody tr th:only-of-type {\n        vertical-align: middle;\n    }\n\n    .dataframe tbody tr th {\n        vertical-align: top;\n    }\n\n    .dataframe thead th {\n        text-align: right;\n    }\n</style>\n<table border=\"1\" class=\"dataframe\">\n  <thead>\n    <tr style=\"text-align: right;\">\n      <th></th>\n      <th>customer_id</th>\n      <th>product_id</th>\n      <th>datetime</th>\n    </tr>\n  </thead>\n  <tbody>\n    <tr>\n      <th>0</th>\n      <td>8698595</td>\n      <td>12530</td>\n      <td>2004-03-10 22:18:43.497459200</td>\n    </tr>\n    <tr>\n      <th>1</th>\n      <td>13271885</td>\n      <td>7541</td>\n      <td>2004-03-06 02:24:43.209763200</td>\n    </tr>\n    <tr>\n      <th>2</th>\n      <td>16852746</td>\n      <td>13134</td>\n      <td>2004-03-10 01:03:09.598614400</td>\n    </tr>\n    <tr>\n      <th>3</th>\n      <td>16852746</td>\n      <td>6572</td>\n      <td>2004-03-04 16:45:16.522566400</td>\n    </tr>\n    <tr>\n      <th>4</th>\n      <td>14619070</td>\n      <td>4659</td>\n      <td>2004-03-12 13:29:35.011481600</td>\n    </tr>\n  </tbody>\n</table>\n</div>"
     },
     "metadata": {},
     "output_type": "display_data"
    },
    {
     "data": {
      "text/plain": "   customer_id  product_id                       datetime\n0      1021292        6197  2004-03-18 13:35:19.145152000\n1     11379978        4659  2004-03-19 18:51:31.887936000\n2     13271885        5659  2004-03-14 05:47:21.544166400\n3     13271885        1015  2004-03-15 14:41:19.702089601\n4     12315337       12072  2004-03-19 10:39:17.148105600",
      "text/html": "<div>\n<style scoped>\n    .dataframe tbody tr th:only-of-type {\n        vertical-align: middle;\n    }\n\n    .dataframe tbody tr th {\n        vertical-align: top;\n    }\n\n    .dataframe thead th {\n        text-align: right;\n    }\n</style>\n<table border=\"1\" class=\"dataframe\">\n  <thead>\n    <tr style=\"text-align: right;\">\n      <th></th>\n      <th>customer_id</th>\n      <th>product_id</th>\n      <th>datetime</th>\n    </tr>\n  </thead>\n  <tbody>\n    <tr>\n      <th>0</th>\n      <td>1021292</td>\n      <td>6197</td>\n      <td>2004-03-18 13:35:19.145152000</td>\n    </tr>\n    <tr>\n      <th>1</th>\n      <td>11379978</td>\n      <td>4659</td>\n      <td>2004-03-19 18:51:31.887936000</td>\n    </tr>\n    <tr>\n      <th>2</th>\n      <td>13271885</td>\n      <td>5659</td>\n      <td>2004-03-14 05:47:21.544166400</td>\n    </tr>\n    <tr>\n      <th>3</th>\n      <td>13271885</td>\n      <td>1015</td>\n      <td>2004-03-15 14:41:19.702089601</td>\n    </tr>\n    <tr>\n      <th>4</th>\n      <td>12315337</td>\n      <td>12072</td>\n      <td>2004-03-19 10:39:17.148105600</td>\n    </tr>\n  </tbody>\n</table>\n</div>"
     },
     "metadata": {},
     "output_type": "display_data"
    }
   ],
   "source": [
    "data_provider = DataProvider(data_directory=Path('./data'))\n",
    "purchases_train = data_provider.get_purchases_train()\n",
    "purchases_test = data_provider.get_purchases_test()\n",
    "display(\n",
    "    purchases_train.head(),\n",
    "    purchases_test.head(),\n",
    ")"
   ]
  },
  {
   "cell_type": "markdown",
   "metadata": {},
   "source": [
    "Бейзлайн решение основано на библитеке матричного разложения `implicit`."
   ]
  },
  {
   "cell_type": "code",
   "execution_count": 3,
   "outputs": [
    {
     "name": "stdout",
     "text": [
      "def get_baseline_model() -> implicit.als.AlternatingLeastSquares:\n",
      "    # disable internal multithreading to speed up implicit.als.AlternatingLeastSquares.fit()\n",
      "    environ[\"MKL_NUM_THREADS\"] = \"1\"\n",
      "    environ[\"OPENBLAS_NUM_THREADS\"] = \"1\"\n",
      "\n",
      "    # we iterated through hyper parameters and measured map@10 score on test set\n",
      "    # the parameters below provide 80-th percentile of score\n",
      "    # we intentionally do not use parameters with best test score\n",
      "    model = implicit.als.AlternatingLeastSquares(\n",
      "        factors=20, iterations=7, regularization=100.0\n",
      "    )\n",
      "    return model\n",
      "\n"
     ],
     "output_type": "stream"
    }
   ],
   "source": [
    "print(inspect.getsource(get_baseline_model))"
   ],
   "metadata": {
    "collapsed": false,
    "pycharm": {
     "name": "#%%\n",
     "is_executing": false
    }
   }
  },
  {
   "cell_type": "code",
   "execution_count": 4,
   "metadata": {
    "pycharm": {
     "is_executing": false
    }
   },
   "outputs": [
    {
     "data": {
      "text/plain": "HBox(children=(FloatProgress(value=0.0, max=7.0), HTML(value='')))",
      "application/vnd.jupyter.widget-view+json": {
       "version_major": 2,
       "version_minor": 0,
       "model_id": "eaffb2ebd4cb4c43b07be0cb186eaf04"
      }
     },
     "metadata": {},
     "output_type": "display_data"
    },
    {
     "name": "stdout",
     "text": [
      "\n"
     ],
     "output_type": "stream"
    },
    {
     "data": {
      "text/plain": "0.18293975547686622"
     },
     "metadata": {},
     "output_type": "execute_result",
     "execution_count": 4
    }
   ],
   "source": [
    "def train_model_on_purchases_and_measure_map10_score(unfitted_model: implicit.als.AlternatingLeastSquares) -> float:\n",
    "    data_provider = DataProvider(data_directory=Path('./data'))\n",
    "    item_users = transform_to_item_user_csr_matrix(data_provider.get_purchases_train())\n",
    "    \n",
    "    np.random.seed(42)\n",
    "    unfitted_model.fit(item_users=item_users)\n",
    "    \n",
    "    test_user_ids, test_purchases = get_purchases_by_customer(data_provider.get_purchases_test())\n",
    "    recommendations = get_recommendations(unfitted_model, test_user_ids, item_users)\n",
    "    score = mapk(test_purchases, recommendations, k=10)\n",
    "    return score\n",
    "\n",
    "train_model_on_purchases_and_measure_map10_score(unfitted_model=get_baseline_model())"
   ]
  },
  {
   "cell_type": "markdown",
   "source": [
    "# Улучшите модель с помощью данных о поле потребителя"
   ],
   "metadata": {
    "collapsed": false,
    "pycharm": {
     "name": "#%% md\n"
    }
   }
  },
  {
   "cell_type": "code",
   "execution_count": 5,
   "outputs": [
    {
     "data": {
      "text/plain": "   customer_id     sex\n0     14386819  Female\n1      1481405     NaN\n2     16745074     NaN\n3     10325906     NaN\n4     11167384     NaN",
      "text/html": "<div>\n<style scoped>\n    .dataframe tbody tr th:only-of-type {\n        vertical-align: middle;\n    }\n\n    .dataframe tbody tr th {\n        vertical-align: top;\n    }\n\n    .dataframe thead th {\n        text-align: right;\n    }\n</style>\n<table border=\"1\" class=\"dataframe\">\n  <thead>\n    <tr style=\"text-align: right;\">\n      <th></th>\n      <th>customer_id</th>\n      <th>sex</th>\n    </tr>\n  </thead>\n  <tbody>\n    <tr>\n      <th>0</th>\n      <td>14386819</td>\n      <td>Female</td>\n    </tr>\n    <tr>\n      <th>1</th>\n      <td>1481405</td>\n      <td>NaN</td>\n    </tr>\n    <tr>\n      <th>2</th>\n      <td>16745074</td>\n      <td>NaN</td>\n    </tr>\n    <tr>\n      <th>3</th>\n      <td>10325906</td>\n      <td>NaN</td>\n    </tr>\n    <tr>\n      <th>4</th>\n      <td>11167384</td>\n      <td>NaN</td>\n    </tr>\n  </tbody>\n</table>\n</div>"
     },
     "metadata": {},
     "output_type": "display_data"
    }
   ],
   "source": [
    "customers = data_provider.get_customers()\n",
    "display(customers.head())"
   ],
   "metadata": {
    "collapsed": false,
    "pycharm": {
     "name": "#%%\n",
     "is_executing": false
    }
   }
  },
  {
   "cell_type": "markdown",
   "source": [
    "# Решение "
   ],
   "metadata": {
    "collapsed": false,
    "pycharm": {
     "name": "#%% md\n"
    }
   }
  },
  {
   "cell_type": "markdown",
   "source": [
    "Мы специально не стали подбирать самые лучшие гиперпараметры для модели.\n",
    "Это значит, что даже не используя пол потребителей, можно добиться лучшей метрики качества - просто перебрав гиперпараметры.  \n",
    " \n",
    "Если в решении вы используете другие гиперпараметры для имплисит, посчитайте также метрику для этих гиперпараметров без использования пола, чтобы убедиться, что положительный вклад дал именно пол.    "
   ],
   "metadata": {
    "collapsed": false,
    "pycharm": {
     "name": "#%% md\n",
     "is_executing": false
    }
   }
  },
  {
   "cell_type": "raw",
   "source": [
    "train_model_on_purchases_and_measure_map10_score(\n",
    "    unfitted_model=implicit.als.AlternatingLeastSquares(\n",
    "        # your final parameters\n",
    "    )\n",
    ")"
   ],
   "metadata": {
    "collapsed": false,
    "pycharm": {
     "name": "#%% raw\n",
     "is_executing": true
    }
   },
   "outputs": [
    {
     "name": "stdout",
     "text": [
      "\n"
     ],
     "output_type": "stream"
    },
    {
     "data": {
      "text/plain": "0.08911427581765805"
     },
     "metadata": {},
     "output_type": "execute_result",
     "execution_count": 6
    }
   ]
  }
 ],
 "metadata": {
  "kernelspec": {
   "display_name": "Python 3",
   "language": "python",
   "name": "python3"
  },
  "language_info": {
   "codemirror_mode": {
    "name": "ipython",
    "version": 3
   },
   "file_extension": ".py",
   "mimetype": "text/x-python",
   "name": "python",
   "nbconvert_exporter": "python",
   "pygments_lexer": "ipython3",
   "version": "3.6.5"
  },
  "pycharm": {
   "stem_cell": {
    "cell_type": "raw",
    "source": [],
    "metadata": {
     "collapsed": false
    }
   }
  }
 },
 "nbformat": 4,
 "nbformat_minor": 2
}